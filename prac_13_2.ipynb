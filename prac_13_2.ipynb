{
 "cells": [
  {
   "cell_type": "code",
   "execution_count": 3,
   "id": "61511f08",
   "metadata": {},
   "outputs": [],
   "source": [
    "import numpy as np"
   ]
  },
  {
   "cell_type": "code",
   "execution_count": 6,
   "id": "cc91db45",
   "metadata": {},
   "outputs": [],
   "source": [
    "a = np.array([[1,2,3],[3,4,5],[5,71,2]])"
   ]
  },
  {
   "cell_type": "code",
   "execution_count": 7,
   "id": "fede4f84",
   "metadata": {},
   "outputs": [],
   "source": [
    "b = np.array([[2,4,3],[9,8,6],[6,2,7]])"
   ]
  },
  {
   "cell_type": "code",
   "execution_count": 9,
   "id": "9ff453d5",
   "metadata": {},
   "outputs": [
    {
     "name": "stdout",
     "output_type": "stream",
     "text": [
      "Addition of matrices is :\n",
      " [[ 3  6  6]\n",
      " [12 12 11]\n",
      " [11 73  9]]\n"
     ]
    }
   ],
   "source": [
    "print(\"Addition of matrices is :\\n\",np.add(a,b))"
   ]
  },
  {
   "cell_type": "code",
   "execution_count": 10,
   "id": "87a2b059",
   "metadata": {},
   "outputs": [
    {
     "name": "stdout",
     "output_type": "stream",
     "text": [
      "Subraction of matrices is :\n",
      " [[-1 -2  0]\n",
      " [-6 -4 -1]\n",
      " [-1 69 -5]]\n"
     ]
    }
   ],
   "source": [
    "print(\"Subraction of matrices is :\\n\",np.subtract(a,b))"
   ]
  },
  {
   "cell_type": "code",
   "execution_count": null,
   "id": "fb0e30a0",
   "metadata": {},
   "outputs": [],
   "source": []
  },
  {
   "cell_type": "code",
   "execution_count": 11,
   "id": "b619c50d",
   "metadata": {},
   "outputs": [
    {
     "name": "stdout",
     "output_type": "stream",
     "text": [
      "Multiplication of matrices is : \n",
      " [[  2   8   9]\n",
      " [ 27  32  30]\n",
      " [ 30 142  14]]\n"
     ]
    }
   ],
   "source": [
    "print(\"Multiplication of matrices is : \\n\",np.multiply(a,b))"
   ]
  },
  {
   "cell_type": "code",
   "execution_count": 12,
   "id": "1b167ec4",
   "metadata": {},
   "outputs": [
    {
     "name": "stdout",
     "output_type": "stream",
     "text": [
      "Division of martrices is :\n",
      " [[ 0.5         0.5         1.        ]\n",
      " [ 0.33333333  0.5         0.83333333]\n",
      " [ 0.83333333 35.5         0.28571429]]\n"
     ]
    }
   ],
   "source": [
    "print(\"Division of martrices is :\\n\",np.divide(a,b))"
   ]
  },
  {
   "cell_type": "code",
   "execution_count": 16,
   "id": "43bd48f2",
   "metadata": {},
   "outputs": [
    {
     "name": "stdout",
     "output_type": "stream",
     "text": [
      "['welcome to Javatpoint' 'Hi read python']\n"
     ]
    }
   ],
   "source": [
    "print(np.char.add(['welcome','Hi'], [' to Javatpoint', ' read python'] ))"
   ]
  },
  {
   "cell_type": "code",
   "execution_count": 17,
   "id": "a16515c9",
   "metadata": {},
   "outputs": [
    {
     "name": "stdout",
     "output_type": "stream",
     "text": [
      "[' hello friends' 'welcomingcodemania']\n"
     ]
    }
   ],
   "source": [
    "print(np.char.add([' hello ','welcoming'],['friends','codemania']))"
   ]
  },
  {
   "cell_type": "code",
   "execution_count": 20,
   "id": "4af11008",
   "metadata": {},
   "outputs": [
    {
     "data": {
      "text/plain": [
       "array([3, 4, 2, 1, 9, 7])"
      ]
     },
     "execution_count": 20,
     "metadata": {},
     "output_type": "execute_result"
    }
   ],
   "source": [
    "np.random.randint(low=1,high=10,size=6)"
   ]
  },
  {
   "cell_type": "code",
   "execution_count": null,
   "id": "f0e637d1",
   "metadata": {},
   "outputs": [],
   "source": []
  }
 ],
 "metadata": {
  "kernelspec": {
   "display_name": "Python 3",
   "language": "python",
   "name": "python3"
  },
  "language_info": {
   "codemirror_mode": {
    "name": "ipython",
    "version": 3
   },
   "file_extension": ".py",
   "mimetype": "text/x-python",
   "name": "python",
   "nbconvert_exporter": "python",
   "pygments_lexer": "ipython3",
   "version": "3.9.10"
  },
  "vscode": {
   "interpreter": {
    "hash": "2a8dfe095fce2b5e88c64a2c3ee084c8e0e0d70b23e7b95b1cfb538be294c5c8"
   }
  }
 },
 "nbformat": 4,
 "nbformat_minor": 5
}
